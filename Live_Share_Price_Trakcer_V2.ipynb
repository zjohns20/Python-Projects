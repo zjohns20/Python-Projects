{
  "nbformat": 4,
  "nbformat_minor": 0,
  "metadata": {
    "colab": {
      "name": "Live Share Price Trakcer V2.ipynb",
      "provenance": [],
      "collapsed_sections": [],
      "authorship_tag": "ABX9TyO2929gg6ZcKUuKSa9OFMFw",
      "include_colab_link": true
    },
    "kernelspec": {
      "name": "python3",
      "display_name": "Python 3"
    }
  },
  "cells": [
    {
      "cell_type": "markdown",
      "metadata": {
        "id": "view-in-github",
        "colab_type": "text"
      },
      "source": [
        "<a href=\"https://colab.research.google.com/github/zjohns20/Web-Scraping/blob/master/Live_Share_Price_Trakcer_V2.ipynb\" target=\"_parent\"><img src=\"https://colab.research.google.com/assets/colab-badge.svg\" alt=\"Open In Colab\"/></a>"
      ]
    },
    {
      "cell_type": "code",
      "metadata": {
        "id": "nRoltbmmCS8y",
        "colab_type": "code",
        "colab": {}
      },
      "source": [
        "#Programmer: Zach Johnson\n",
        "#Date: 8/31/2020\n",
        "#Project: Live Share Price Trakcer V2\n",
        "\n",
        "import requests\n",
        "from bs4 import BeautifulSoup #web scraping\n",
        "\n",
        "def priceTracker():\n",
        "  #Get the stocker ticker from user\n",
        "  ticker = input('Stock symbol: ')\n",
        "  url = ('https://finance.yahoo.com/quote/' + ticker)\n",
        "  response = requests.get(url)\n",
        "  soup = BeautifulSoup(response.text, 'lxml')\n",
        "  price = soup.find_all('div', {'class':'My(6px) Pos(r) smartphone_Mt(6px)'})[0].find('span').text #Use .text to derive price\n",
        "  return price\n",
        "\n",
        "while True:\n",
        "  print('Current price per share: $' + \"\\033[1m\" + priceTracker() + \"\\033[0m\") #\"\\033[1m\" + \"\\033[0m\" = bold text\n",
        "  if priceTracker() == price:\n",
        "    print('(Share price remains constant)')\n",
        "  elif priceTracker() > price:\n",
        "    print('(Share price is up)')\n",
        "  elif priceTracker() < price:\n",
        "    print('(Share price is down)')"
      ],
      "execution_count": null,
      "outputs": []
    }
  ]
}