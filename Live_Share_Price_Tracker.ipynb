{
  "nbformat": 4,
  "nbformat_minor": 0,
  "metadata": {
    "colab": {
      "name": "Live Share Price Tracker.ipynb",
      "provenance": [],
      "collapsed_sections": [],
      "authorship_tag": "ABX9TyNdJ6fPRjw9Vong82O3pPuh",
      "include_colab_link": true
    },
    "kernelspec": {
      "name": "python3",
      "display_name": "Python 3"
    }
  },
  "cells": [
    {
      "cell_type": "markdown",
      "metadata": {
        "id": "view-in-github",
        "colab_type": "text"
      },
      "source": [
        "<a href=\"https://colab.research.google.com/github/zjohns20/Python-Projects/blob/master/Live_Share_Price_Tracker.ipynb\" target=\"_parent\"><img src=\"https://colab.research.google.com/assets/colab-badge.svg\" alt=\"Open In Colab\"/></a>"
      ]
    },
    {
      "cell_type": "code",
      "metadata": {
        "id": "NUVy-uuOyccy",
        "colab_type": "code",
        "colab": {}
      },
      "source": [
        "import requests\n",
        "from bs4 import BeautifulSoup #web scraping\n",
        "\n",
        "url = 'https://finance.yahoo.com/quote/NIO?p=NIO'\n",
        "\n",
        "response = requests.get(url)\n",
        "soup = BeautifulSoup(response.text, 'lxml')\n",
        "print(soup)\n"
      ],
      "execution_count": null,
      "outputs": []
    },
    {
      "cell_type": "code",
      "metadata": {
        "id": "y3WVG7Hh29Q4",
        "colab_type": "code",
        "colab": {
          "base_uri": "https://localhost:8080/",
          "height": 34
        },
        "outputId": "ecb1c4ff-481a-42c4-be66-a55820be2fa9"
      },
      "source": [
        "#Get Stock price from Yahoo Finance & print\n",
        "price = soup.find_all('div', {'class':'My(6px) Pos(r) smartphone_Mt(6px)'})[0].find('span').text #Use .text to derive price\n",
        "print('$', price, 'per share')"
      ],
      "execution_count": 10,
      "outputs": [
        {
          "output_type": "stream",
          "text": [
            "$ 19.03 per share\n"
          ],
          "name": "stdout"
        }
      ]
    },
    {
      "cell_type": "code",
      "metadata": {
        "id": "Sh1GLFhA5r9K",
        "colab_type": "code",
        "colab": {}
      },
      "source": [
        "#Live price tracker for shares\n",
        "#Most of the code is reiterated\n",
        "def priceTracker():\n",
        "  url = 'https://finance.yahoo.com/quote/NIO?p=NIO'\n",
        "  response = requests.get(url)\n",
        "  soup = BeautifulSoup(response.text, 'lxml')\n",
        "  price = soup.find_all('div', {'class':'My(6px) Pos(r) smartphone_Mt(6px)'})[0].find('span').text #Use .text to derive price\n",
        "  return price\n",
        "\n",
        "while True:\n",
        "  print('Current price per share: $' + \"\\033[1m\" + priceTracker() + \"\\033[0m\") #\"\\033[1m\" + \"\\033[0m\" = bold text\n",
        "  if priceTracker() == price:\n",
        "    print('(Share price remains constant)')\n",
        "  elif priceTracker() > price:\n",
        "    print('(Share price is up)')\n",
        "  elif priceTracker() < price:\n",
        "    print('(Share price is down)')"
      ],
      "execution_count": null,
      "outputs": []
    }
  ]
}